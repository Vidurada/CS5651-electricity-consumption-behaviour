{
 "cells": [
  {
   "cell_type": "markdown",
   "metadata": {},
   "source": [
    "Importing all the modules"
   ]
  },
  {
   "cell_type": "code",
   "execution_count": 1,
   "metadata": {},
   "outputs": [],
   "source": [
    "import pandas as pd\n",
    "import math\n",
    "import numpy as np\n",
    "import matplotlib.pyplot as plt"
   ]
  },
  {
   "cell_type": "markdown",
   "metadata": {},
   "source": [
    "Import data"
   ]
  },
  {
   "cell_type": "code",
   "execution_count": 2,
   "metadata": {},
   "outputs": [
    {
     "name": "stdout",
     "output_type": "stream",
     "text": [
      "(50, 26)\n"
     ]
    }
   ],
   "source": [
    "df=pd.read_csv('data_file.csv')\n",
    "print(df.shape)"
   ]
  },
  {
   "cell_type": "code",
   "execution_count": 3,
   "metadata": {},
   "outputs": [
    {
     "data": {
      "text/html": [
       "<div>\n",
       "<style scoped>\n",
       "    .dataframe tbody tr th:only-of-type {\n",
       "        vertical-align: middle;\n",
       "    }\n",
       "\n",
       "    .dataframe tbody tr th {\n",
       "        vertical-align: top;\n",
       "    }\n",
       "\n",
       "    .dataframe thead th {\n",
       "        text-align: right;\n",
       "    }\n",
       "</style>\n",
       "<table border=\"1\" class=\"dataframe\">\n",
       "  <thead>\n",
       "    <tr style=\"text-align: right;\">\n",
       "      <th></th>\n",
       "      <th>Which of the following time periods best describes when your house was built?</th>\n",
       "      <th>What do you know about the architecture of the house?</th>\n",
       "      <th>Select the best option which describes your house</th>\n",
       "      <th>How many stories does your house have?</th>\n",
       "      <th>State the area of your house in square feet?</th>\n",
       "      <th>Relationship to the head of the household</th>\n",
       "      <th>Gender</th>\n",
       "      <th>Current attendance at school or other educational institution</th>\n",
       "      <th>Main occupation</th>\n",
       "      <th>How much is your household's average monthly expenditure for food?</th>\n",
       "      <th>...</th>\n",
       "      <th>Was your wiring don't by a professional electrician?</th>\n",
       "      <th>Which of the following do you use in your household for generating electricity?</th>\n",
       "      <th>Which of the following purposes do you use solar energy inside your house?</th>\n",
       "      <th>Which of the following can most accurately describe your know-how in electricity bill calculation?</th>\n",
       "      <th>Which of the following best describes your behaviour of ironing clothes?</th>\n",
       "      <th>Which of the following best describes your behaviour regarding night lighting considering the whole house?</th>\n",
       "      <th>Do you check your electricity meter for overconsumption?</th>\n",
       "      <th>Do you look at the energy rating of an appliance when buying one?</th>\n",
       "      <th>Which district you are residing?</th>\n",
       "      <th>Which Secretarial division your house belonged?</th>\n",
       "    </tr>\n",
       "  </thead>\n",
       "  <tbody>\n",
       "    <tr>\n",
       "      <th>0</th>\n",
       "      <td>Before 1980</td>\n",
       "      <td>No such professional designing was don't; the ...</td>\n",
       "      <td>Single House - Single Floor</td>\n",
       "      <td>1</td>\n",
       "      <td>1000</td>\n",
       "      <td>Son/daughter</td>\n",
       "      <td>Male</td>\n",
       "      <td>Does not attend</td>\n",
       "      <td>Professional</td>\n",
       "      <td>50,000</td>\n",
       "      <td>...</td>\n",
       "      <td>Yes</td>\n",
       "      <td>None of the above</td>\n",
       "      <td>NaN</td>\n",
       "      <td>I learnt the calculation by reading the monthl...</td>\n",
       "      <td>We iron when and where the need arises</td>\n",
       "      <td>We don't keep any of the lights on when sleeping</td>\n",
       "      <td>Never</td>\n",
       "      <td>Yes</td>\n",
       "      <td>Kalutara</td>\n",
       "      <td>Panadura</td>\n",
       "    </tr>\n",
       "    <tr>\n",
       "      <th>1</th>\n",
       "      <td>2000-2009</td>\n",
       "      <td>House was not specifically designed by an arch...</td>\n",
       "      <td>Single House -Double Floor</td>\n",
       "      <td>2</td>\n",
       "      <td>2722.5</td>\n",
       "      <td>Son/daughter</td>\n",
       "      <td>Female</td>\n",
       "      <td>University</td>\n",
       "      <td>Professional</td>\n",
       "      <td>75000</td>\n",
       "      <td>...</td>\n",
       "      <td>Yes</td>\n",
       "      <td>Solar Energy</td>\n",
       "      <td>All the above</td>\n",
       "      <td>I am not aware of how the bill is calculated</td>\n",
       "      <td>We iron when and where the need arises</td>\n",
       "      <td>We keep more than two lights on when sleeping</td>\n",
       "      <td>Yes, some of the months</td>\n",
       "      <td>No</td>\n",
       "      <td>Galle</td>\n",
       "      <td>Bope-Poddala</td>\n",
       "    </tr>\n",
       "    <tr>\n",
       "      <th>2</th>\n",
       "      <td>2000-2009</td>\n",
       "      <td>The house was designed by a certified architect</td>\n",
       "      <td>Single House - Single Floor</td>\n",
       "      <td>1</td>\n",
       "      <td>No idea</td>\n",
       "      <td>Wife/Husband</td>\n",
       "      <td>Male</td>\n",
       "      <td>Does not attend</td>\n",
       "      <td>Professional</td>\n",
       "      <td>25000</td>\n",
       "      <td>...</td>\n",
       "      <td>I am not aware of it</td>\n",
       "      <td>Solar Energy</td>\n",
       "      <td>Outdoor lighting</td>\n",
       "      <td>I learnt the calculation by reading the monthl...</td>\n",
       "      <td>We iron the clothes weekly.</td>\n",
       "      <td>We keep less than two-night lights on when sle...</td>\n",
       "      <td>Never</td>\n",
       "      <td>No</td>\n",
       "      <td>Kalutara</td>\n",
       "      <td>Bandaragama</td>\n",
       "    </tr>\n",
       "    <tr>\n",
       "      <th>3</th>\n",
       "      <td>1990-1999</td>\n",
       "      <td>The house was designed by a certified architect</td>\n",
       "      <td>Single House - Single Floor</td>\n",
       "      <td>1</td>\n",
       "      <td>4083</td>\n",
       "      <td>Son/daughter</td>\n",
       "      <td>Male</td>\n",
       "      <td>Does not attend</td>\n",
       "      <td>Legislator, senior official, and manager</td>\n",
       "      <td>30000</td>\n",
       "      <td>...</td>\n",
       "      <td>Yes</td>\n",
       "      <td>None of the above</td>\n",
       "      <td>Other</td>\n",
       "      <td>I learnt the calculation by reading the monthl...</td>\n",
       "      <td>We iron our clothes twice a week.</td>\n",
       "      <td>We don't keep any of the lights on when sleeping</td>\n",
       "      <td>Yes, every month</td>\n",
       "      <td>Yes</td>\n",
       "      <td>Kalutara</td>\n",
       "      <td>Mathugama</td>\n",
       "    </tr>\n",
       "    <tr>\n",
       "      <th>4</th>\n",
       "      <td>2010-2019</td>\n",
       "      <td>House was not specifically designed by an arch...</td>\n",
       "      <td>Single House -Double Floor</td>\n",
       "      <td>2</td>\n",
       "      <td>No idea</td>\n",
       "      <td>Head of the household</td>\n",
       "      <td>Male</td>\n",
       "      <td>University</td>\n",
       "      <td>Professional</td>\n",
       "      <td>60,000</td>\n",
       "      <td>...</td>\n",
       "      <td>Yes</td>\n",
       "      <td>None of the above</td>\n",
       "      <td>NaN</td>\n",
       "      <td>I am not aware of how the bill is calculated</td>\n",
       "      <td>We iron when and where the need arises</td>\n",
       "      <td>We keep less than two-night lights on when sle...</td>\n",
       "      <td>Yes, some of the months</td>\n",
       "      <td>Yes</td>\n",
       "      <td>Colombo</td>\n",
       "      <td>Kolonnawa</td>\n",
       "    </tr>\n",
       "  </tbody>\n",
       "</table>\n",
       "<p>5 rows × 26 columns</p>\n",
       "</div>"
      ],
      "text/plain": [
       "  Which of the following time periods best describes when your house was built?  \\\n",
       "0                                        Before 1980                              \n",
       "1                                          2000-2009                              \n",
       "2                                          2000-2009                              \n",
       "3                                          1990-1999                              \n",
       "4                                          2010-2019                              \n",
       "\n",
       "  What do you know about the architecture of the house?     \\\n",
       "0  No such professional designing was don't; the ...         \n",
       "1  House was not specifically designed by an arch...         \n",
       "2    The house was designed by a certified architect         \n",
       "3    The house was designed by a certified architect         \n",
       "4  House was not specifically designed by an arch...         \n",
       "\n",
       "  Select the best option which describes your house    \\\n",
       "0                        Single House - Single Floor    \n",
       "1                         Single House -Double Floor    \n",
       "2                        Single House - Single Floor    \n",
       "3                        Single House - Single Floor    \n",
       "4                         Single House -Double Floor    \n",
       "\n",
       "  How many stories does your house have?    \\\n",
       "0                                        1   \n",
       "1                                        2   \n",
       "2                                        1   \n",
       "3                                        1   \n",
       "4                                        2   \n",
       "\n",
       "  State the area of your house in square feet?    \\\n",
       "0                                           1000   \n",
       "1                                         2722.5   \n",
       "2                                        No idea   \n",
       "3                                           4083   \n",
       "4                                        No idea   \n",
       "\n",
       "  Relationship to the head of the household   Gender    \\\n",
       "0                                Son/daughter     Male   \n",
       "1                                Son/daughter   Female   \n",
       "2                                Wife/Husband     Male   \n",
       "3                                Son/daughter     Male   \n",
       "4                       Head of the household     Male   \n",
       "\n",
       "  Current attendance at school or other educational institution    \\\n",
       "0                                    Does not attend                \n",
       "1                                         University                \n",
       "2                                    Does not attend                \n",
       "3                                    Does not attend                \n",
       "4                                         University                \n",
       "\n",
       "                          Main occupation    \\\n",
       "0                              Professional   \n",
       "1                              Professional   \n",
       "2                              Professional   \n",
       "3  Legislator, senior official, and manager   \n",
       "4                              Professional   \n",
       "\n",
       "  How much is your household's average monthly expenditure for food?    ...  \\\n",
       "0                                             50,000                    ...   \n",
       "1                                              75000                    ...   \n",
       "2                                              25000                    ...   \n",
       "3                                              30000                    ...   \n",
       "4                                             60,000                    ...   \n",
       "\n",
       "  Was your wiring don't by a professional electrician?    \\\n",
       "0                                                Yes       \n",
       "1                                                Yes       \n",
       "2                               I am not aware of it       \n",
       "3                                                Yes       \n",
       "4                                                Yes       \n",
       "\n",
       "  Which of the following do you use in your household for generating electricity?    \\\n",
       "0                                  None of the above                                  \n",
       "1                                       Solar Energy                                  \n",
       "2                                       Solar Energy                                  \n",
       "3                                  None of the above                                  \n",
       "4                                  None of the above                                  \n",
       "\n",
       "  Which of the following purposes do you use solar energy inside your house?    \\\n",
       "0                                                NaN                             \n",
       "1                                      All the above                             \n",
       "2                                   Outdoor lighting                             \n",
       "3                                              Other                             \n",
       "4                                                NaN                             \n",
       "\n",
       "  Which of the following can most accurately describe your know-how in electricity bill calculation?    \\\n",
       "0  I learnt the calculation by reading the monthl...                                                     \n",
       "1       I am not aware of how the bill is calculated                                                     \n",
       "2  I learnt the calculation by reading the monthl...                                                     \n",
       "3  I learnt the calculation by reading the monthl...                                                     \n",
       "4       I am not aware of how the bill is calculated                                                     \n",
       "\n",
       "  Which of the following best describes your behaviour of ironing clothes?    \\\n",
       "0             We iron when and where the need arises                           \n",
       "1             We iron when and where the need arises                           \n",
       "2                        We iron the clothes weekly.                           \n",
       "3                  We iron our clothes twice a week.                           \n",
       "4             We iron when and where the need arises                           \n",
       "\n",
       "  Which of the following best describes your behaviour regarding night lighting considering the whole house?    \\\n",
       "0   We don't keep any of the lights on when sleeping                                                             \n",
       "1      We keep more than two lights on when sleeping                                                             \n",
       "2  We keep less than two-night lights on when sle...                                                             \n",
       "3   We don't keep any of the lights on when sleeping                                                             \n",
       "4  We keep less than two-night lights on when sle...                                                             \n",
       "\n",
       "  Do you check your electricity meter for overconsumption?    \\\n",
       "0                                              Never           \n",
       "1                            Yes, some of the months           \n",
       "2                                              Never           \n",
       "3                                   Yes, every month           \n",
       "4                            Yes, some of the months           \n",
       "\n",
       "  Do you look at the energy rating of an appliance when buying one?    \\\n",
       "0                                                Yes                    \n",
       "1                                                 No                    \n",
       "2                                                 No                    \n",
       "3                                                Yes                    \n",
       "4                                                Yes                    \n",
       "\n",
       "  Which district you are residing?    \\\n",
       "0                           Kalutara   \n",
       "1                              Galle   \n",
       "2                           Kalutara   \n",
       "3                           Kalutara   \n",
       "4                            Colombo   \n",
       "\n",
       "  Which Secretarial division your house belonged?    \n",
       "0                                          Panadura  \n",
       "1                                      Bope-Poddala  \n",
       "2                                       Bandaragama  \n",
       "3                                         Mathugama  \n",
       "4                                         Kolonnawa  \n",
       "\n",
       "[5 rows x 26 columns]"
      ]
     },
     "execution_count": 3,
     "metadata": {},
     "output_type": "execute_result"
    }
   ],
   "source": [
    "df.head()"
   ]
  },
  {
   "cell_type": "code",
   "execution_count": 4,
   "metadata": {},
   "outputs": [
    {
     "data": {
      "text/plain": [
       "Index(['Which of the following time periods best describes when your house was built?',\n",
       "       'What do you know about the architecture of the house?   ',\n",
       "       'Select the best option which describes your house  ',\n",
       "       'How many stories does your house have?  ',\n",
       "       'State the area of your house in square feet?  ',\n",
       "       'Relationship to the head of the household  ', 'Gender  ',\n",
       "       'Current attendance at school or other educational institution  ',\n",
       "       'Main occupation  ',\n",
       "       'How much is your household's average monthly expenditure for food?  ',\n",
       "       'How much is your household's average monthly expenditure for Non-food?  ',\n",
       "       'What is the best representation of the major material your outside walls are made of?  ',\n",
       "       'Which of the following options does your house use for ventilation and lighting other than windows and doors (only indoors)?  ',\n",
       "       'What is the major type of roof installation used in your house (on the highest floor)?  ',\n",
       "       'Nearly how many red notices did you receive last year?  ',\n",
       "       'Which of the below is true regarding your normal bill payment practice (example given when the bill is Rs 4566)?  ',\n",
       "       'Was your wiring don't by a professional electrician?  ',\n",
       "       'Which of the following do you use in your household for generating electricity?  ',\n",
       "       'Which of the following purposes do you use solar energy inside your house?  ',\n",
       "       'Which of the following can most accurately describe your know-how in electricity bill calculation?  ',\n",
       "       'Which of the following best describes your behaviour of ironing clothes?  ',\n",
       "       'Which of the following best describes your behaviour regarding night lighting considering the whole house?  ',\n",
       "       'Do you check your electricity meter for overconsumption?  ',\n",
       "       'Do you look at the energy rating of an appliance when buying one?  ',\n",
       "       'Which district you are residing?  ',\n",
       "       'Which Secretarial division your house belonged?  '],\n",
       "      dtype='object')"
      ]
     },
     "execution_count": 4,
     "metadata": {},
     "output_type": "execute_result"
    }
   ],
   "source": [
    "df.columns"
   ]
  },
  {
   "attachments": {},
   "cell_type": "markdown",
   "metadata": {},
   "source": [
    "Bill payment practice"
   ]
  },
  {
   "cell_type": "code",
   "execution_count": 6,
   "metadata": {},
   "outputs": [],
   "source": [
    "results = df['Which of the below is true regarding your normal bill payment practice (example given when the bill is Rs 4566)?  '].value_counts()"
   ]
  },
  {
   "cell_type": "code",
   "execution_count": 7,
   "metadata": {},
   "outputs": [
    {
     "data": {
      "text/plain": [
       "I try to pay a rounded-off amount which will cover the whole bill amount (ex: 4600)    23\n",
       "I try to pay the exact amount in the bill (ex: 4566)                                   17\n",
       "I try to pay a rounded-off amount which is mostly lower than the bill (ex: 4500)        7\n",
       "I try to pay a portion of my bill amount that is possible for me (ex: 3500)             2\n",
       "I try to pay a rounded-off amount which is mostly higher than the bill (ex: 4600)       1\n",
       "Name: Which of the below is true regarding your normal bill payment practice (example given when the bill is Rs 4566)?  , dtype: int64"
      ]
     },
     "execution_count": 7,
     "metadata": {},
     "output_type": "execute_result"
    }
   ],
   "source": [
    "results"
   ]
  },
  {
   "cell_type": "code",
   "execution_count": 9,
   "metadata": {},
   "outputs": [
    {
     "name": "stdout",
     "output_type": "stream",
     "text": [
      "Proportion (p hat): 0.46\n",
      "95% Confidence Interval: 0.1381487198637758\n",
      "Lower bound: 0.3218512801362242\n",
      "Upper bound: 0.5981487198637758\n"
     ]
    }
   ],
   "source": [
    "# Define the dataset\n",
    "dataset = {\n",
    "    'rounded_off_whole_bill': 23,\n",
    "    'exact_amount_in_bill': 17,\n",
    "    'rounded_off_lower_than_bill': 7,\n",
    "    'portion_of_bill_amount': 2,\n",
    "    'rounded_off_higher_than_bill': 1\n",
    "}\n",
    "\n",
    "# Calculate the total number of observations\n",
    "total_observations = sum(dataset.values())\n",
    "\n",
    "# Calculate the proportion (p hat)\n",
    "p_hat = dataset['rounded_off_whole_bill'] / total_observations\n",
    "\n",
    "# Calculate the standard error\n",
    "standard_error = math.sqrt(p_hat * (1 - p_hat) / total_observations)\n",
    "\n",
    "# Calculate the margin of error (z-value for 95% confidence interval is 1.96)\n",
    "margin_of_error = 1.96 * standard_error\n",
    "\n",
    "# Calculate the lower and upper bounds of the confidence interval\n",
    "lower_bound = p_hat - margin_of_error\n",
    "upper_bound = p_hat + margin_of_error\n",
    "\n",
    "# Print the results\n",
    "print(f\"Proportion (p hat): {p_hat}\")\n",
    "print(f\"95% Confidence Interval: {margin_of_error}\")\n",
    "print(f\"Lower bound: {lower_bound}\")\n",
    "print(f\"Upper bound: {upper_bound}\")"
   ]
  },
  {
   "attachments": {},
   "cell_type": "markdown",
   "metadata": {},
   "source": [
    "Bill calculation awareness"
   ]
  },
  {
   "cell_type": "code",
   "execution_count": 10,
   "metadata": {},
   "outputs": [],
   "source": [
    "results = df['Which of the following can most accurately describe your know-how in electricity bill calculation?  '].value_counts()"
   ]
  },
  {
   "cell_type": "code",
   "execution_count": 11,
   "metadata": {},
   "outputs": [
    {
     "data": {
      "text/plain": [
       "I learnt the calculation by reading the monthly bill.    18\n",
       "I am not aware of how the bill is calculated             17\n",
       "I got to know through the media.                          7\n",
       "LECO/ CEB described to me how the bill is calculated.     6\n",
       "I got to know through another mean.                       2\n",
       "Name: Which of the following can most accurately describe your know-how in electricity bill calculation?  , dtype: int64"
      ]
     },
     "execution_count": 11,
     "metadata": {},
     "output_type": "execute_result"
    }
   ],
   "source": [
    "results"
   ]
  },
  {
   "cell_type": "code",
   "execution_count": 18,
   "metadata": {},
   "outputs": [
    {
     "name": "stdout",
     "output_type": "stream",
     "text": [
      "Proportion (p hat): 0.3469387755102041\n",
      "95% Confidence Interval: 0.13327890045360688\n",
      "Lower bound: 0.2136598750565972\n",
      "Upper bound: 0.48021767596381093\n"
     ]
    }
   ],
   "source": [
    "# Define the dataset\n",
    "dataset = {\n",
    "    'I am not aware of how the bill is calculated': 17,\n",
    "    'I learnt the calculation by reading the monthly bill.': 15,\n",
    "    'I got to know through the media.': 7,\n",
    "    'LECO/ CEB described to me how the bill is calculated.': 6,\n",
    "    'I got to know through another mean.': 2,\n",
    "    'All the above': 1,\n",
    "    'None of the above': 1\n",
    "\n",
    "}\n",
    "\n",
    "# Calculate the total number of observations\n",
    "total_observations = sum(dataset.values())\n",
    "\n",
    "# Calculate the proportion (p hat)\n",
    "p_hat = dataset['I am not aware of how the bill is calculated'] / total_observations\n",
    "\n",
    "# Calculate the standard error\n",
    "standard_error = math.sqrt(p_hat * (1 - p_hat) / total_observations)\n",
    "\n",
    "# Calculate the margin of error (z-value for 95% confidence interval is 1.96)\n",
    "margin_of_error = 1.96 * standard_error\n",
    "\n",
    "# Calculate the lower and upper bounds of the confidence interval\n",
    "lower_bound = p_hat - margin_of_error\n",
    "upper_bound = p_hat + margin_of_error\n",
    "\n",
    "# Print the results\n",
    "print(f\"Proportion (p hat): {p_hat}\")\n",
    "print(f\"95% Confidence Interval: {margin_of_error}\")\n",
    "print(f\"Lower bound: {lower_bound}\")\n",
    "print(f\"Upper bound: {upper_bound}\")"
   ]
  },
  {
   "attachments": {},
   "cell_type": "markdown",
   "metadata": {},
   "source": [
    "Ironining Behaviour"
   ]
  },
  {
   "cell_type": "code",
   "execution_count": 12,
   "metadata": {},
   "outputs": [],
   "source": [
    "results = df['Which of the following best describes your behaviour of ironing clothes?  '].value_counts()"
   ]
  },
  {
   "cell_type": "code",
   "execution_count": 14,
   "metadata": {},
   "outputs": [
    {
     "data": {
      "text/plain": [
       "We iron when and where the need arises    20\n",
       "We iron the clothes weekly.               12\n",
       "We iron the cloths daily                   6\n",
       "We iron our clothes twice a week.          5\n",
       "We iron our clothes once a week.           3\n",
       "We iron our clothes daily.                 2\n",
       "We iron our clothes once a month.          1\n",
       "We iron our clothes twice a month.         1\n",
       "Name: Which of the following best describes your behaviour of ironing clothes?  , dtype: int64"
      ]
     },
     "execution_count": 14,
     "metadata": {},
     "output_type": "execute_result"
    }
   ],
   "source": [
    "results"
   ]
  },
  {
   "cell_type": "code",
   "execution_count": 15,
   "metadata": {},
   "outputs": [
    {
     "name": "stdout",
     "output_type": "stream",
     "text": [
      "Proportion (p hat): 0.40816326530612246\n",
      "95% Confidence Interval: 0.13761822375762622\n",
      "Lower bound: 0.27054504154849623\n",
      "Upper bound: 0.5457814890637487\n"
     ]
    }
   ],
   "source": [
    "# Define the dataset\n",
    "dataset = {\n",
    "    'We iron when and where the need arises': 20,\n",
    "    'We iron the clothes weekly.': 12,\n",
    "    'We iron the cloths daily': 5,\n",
    "    'We iron our clothes twice a week.': 5,\n",
    "    'We iron our clothes once a week.': 3,\n",
    "    'We iron our clothes daily.': 2,\n",
    "    'We iron our clothes once a month.': 1,\n",
    "    'We iron our clothes twice a month.': 1\n",
    "\n",
    "}\n",
    "\n",
    "# Calculate the total number of observations\n",
    "total_observations = sum(dataset.values())\n",
    "\n",
    "# Calculate the proportion (p hat)\n",
    "p_hat = dataset['We iron when and where the need arises'] / total_observations\n",
    "\n",
    "# Calculate the standard error\n",
    "standard_error = math.sqrt(p_hat * (1 - p_hat) / total_observations)\n",
    "\n",
    "# Calculate the margin of error (z-value for 95% confidence interval is 1.96)\n",
    "margin_of_error = 1.96 * standard_error\n",
    "\n",
    "# Calculate the lower and upper bounds of the confidence interval\n",
    "lower_bound = p_hat - margin_of_error\n",
    "upper_bound = p_hat + margin_of_error\n",
    "\n",
    "# Print the results\n",
    "print(f\"Proportion (p hat): {p_hat}\")\n",
    "print(f\"95% Confidence Interval: {margin_of_error}\")\n",
    "print(f\"Lower bound: {lower_bound}\")\n",
    "print(f\"Upper bound: {upper_bound}\")"
   ]
  },
  {
   "attachments": {},
   "cell_type": "markdown",
   "metadata": {},
   "source": [
    "light at night"
   ]
  },
  {
   "cell_type": "code",
   "execution_count": 16,
   "metadata": {},
   "outputs": [],
   "source": [
    "results = df['Which of the following best describes your behaviour regarding night lighting considering the whole house?  '].value_counts()"
   ]
  },
  {
   "cell_type": "code",
   "execution_count": 17,
   "metadata": {},
   "outputs": [
    {
     "data": {
      "text/plain": [
       "We don't keep any of the lights on when sleeping       28\n",
       "We keep less than two-night lights on when sleeping    17\n",
       "We keep more than two lights on when sleeping           5\n",
       "Name: Which of the following best describes your behaviour regarding night lighting considering the whole house?  , dtype: int64"
      ]
     },
     "execution_count": 17,
     "metadata": {},
     "output_type": "execute_result"
    }
   ],
   "source": [
    "results"
   ]
  },
  {
   "cell_type": "code",
   "execution_count": 18,
   "metadata": {},
   "outputs": [
    {
     "name": "stdout",
     "output_type": "stream",
     "text": [
      "Proportion (p hat): 0.56\n",
      "95% Confidence Interval: 0.13759144159430847\n",
      "Lower bound: 0.4224085584056916\n",
      "Upper bound: 0.6975914415943085\n"
     ]
    }
   ],
   "source": [
    "# Define the dataset\n",
    "dataset = {\n",
    "    'We dont keep any of the lights on when sleeping': 28,\n",
    "    'We keep less than two-night lights on when sleeping': 17,\n",
    "    'We keep more than two lights on when sleeping ': 5,\n",
    "}\n",
    "\n",
    "# Calculate the total number of observations\n",
    "total_observations = sum(dataset.values())\n",
    "\n",
    "# Calculate the proportion (p hat)\n",
    "p_hat = dataset['We dont keep any of the lights on when sleeping'] / total_observations\n",
    "\n",
    "# Calculate the standard error\n",
    "standard_error = math.sqrt(p_hat * (1 - p_hat) / total_observations)\n",
    "\n",
    "# Calculate the margin of error (z-value for 95% confidence interval is 1.96)\n",
    "margin_of_error = 1.96 * standard_error\n",
    "\n",
    "# Calculate the lower and upper bounds of the confidence interval\n",
    "lower_bound = p_hat - margin_of_error\n",
    "upper_bound = p_hat + margin_of_error\n",
    "\n",
    "# Print the results\n",
    "print(f\"Proportion (p hat): {p_hat}\")\n",
    "print(f\"95% Confidence Interval: {margin_of_error}\")\n",
    "print(f\"Lower bound: {lower_bound}\")\n",
    "print(f\"Upper bound: {upper_bound}\")"
   ]
  },
  {
   "attachments": {},
   "cell_type": "markdown",
   "metadata": {},
   "source": [
    "over consumption"
   ]
  },
  {
   "cell_type": "code",
   "execution_count": 19,
   "metadata": {},
   "outputs": [],
   "source": [
    "results = df['Do you check your electricity meter for overconsumption?  '].value_counts()"
   ]
  },
  {
   "cell_type": "code",
   "execution_count": 20,
   "metadata": {},
   "outputs": [
    {
     "data": {
      "text/plain": [
       "Never                      15\n",
       "Yes, every month           15\n",
       "Yes, some of the months    10\n",
       "Rarely, once a year        10\n",
       "Name: Do you check your electricity meter for overconsumption?  , dtype: int64"
      ]
     },
     "execution_count": 20,
     "metadata": {},
     "output_type": "execute_result"
    }
   ],
   "source": [
    "results"
   ]
  },
  {
   "cell_type": "code",
   "execution_count": 21,
   "metadata": {},
   "outputs": [
    {
     "name": "stdout",
     "output_type": "stream",
     "text": [
      "Proportion (p hat): 0.3\n",
      "95% Confidence Interval: 0.12702251768879405\n",
      "Lower bound: 0.17297748231120594\n",
      "Upper bound: 0.42702251768879407\n"
     ]
    }
   ],
   "source": [
    "# Define the dataset\n",
    "dataset = {\n",
    "    'Never': 15,\n",
    "    'Yes, every month': 15,\n",
    "    'Yes, some of the months': 10,\n",
    "    'Rarely, once a year': 10\n",
    "}\n",
    "\n",
    "# Calculate the total number of observations\n",
    "total_observations = sum(dataset.values())\n",
    "\n",
    "# Calculate the proportion (p hat)\n",
    "p_hat = dataset['Never'] / total_observations\n",
    "\n",
    "# Calculate the standard error\n",
    "standard_error = math.sqrt(p_hat * (1 - p_hat) / total_observations)\n",
    "\n",
    "# Calculate the margin of error (z-value for 95% confidence interval is 1.96)\n",
    "margin_of_error = 1.96 * standard_error\n",
    "\n",
    "# Calculate the lower and upper bounds of the confidence interval\n",
    "lower_bound = p_hat - margin_of_error\n",
    "upper_bound = p_hat + margin_of_error\n",
    "\n",
    "# Print the results\n",
    "print(f\"Proportion (p hat): {p_hat}\")\n",
    "print(f\"95% Confidence Interval: {margin_of_error}\")\n",
    "print(f\"Lower bound: {lower_bound}\")\n",
    "print(f\"Upper bound: {upper_bound}\")"
   ]
  },
  {
   "attachments": {},
   "cell_type": "markdown",
   "metadata": {},
   "source": [
    "Checking for Energy Label"
   ]
  },
  {
   "cell_type": "code",
   "execution_count": 44,
   "metadata": {},
   "outputs": [],
   "source": [
    "results = df['Do you look at the energy rating of an appliance when buying one?  '].value_counts()"
   ]
  },
  {
   "cell_type": "code",
   "execution_count": 45,
   "metadata": {},
   "outputs": [
    {
     "data": {
      "text/plain": [
       "Yes    33\n",
       "No     17\n",
       "Name: Do you look at the energy rating of an appliance when buying one?  , dtype: int64"
      ]
     },
     "execution_count": 45,
     "metadata": {},
     "output_type": "execute_result"
    }
   ],
   "source": [
    "results"
   ]
  },
  {
   "cell_type": "code",
   "execution_count": 5,
   "metadata": {},
   "outputs": [
    {
     "name": "stdout",
     "output_type": "stream",
     "text": [
      "Proportion (p hat): 0.66\n",
      "95% Confidence Interval: 0.13130537231964273\n",
      "Lower bound: 0.5286946276803572\n",
      "Upper bound: 0.7913053723196428\n",
      "Proportion (p hat): 0.66\n",
      "95% Confidence Interval:\n",
      "Lower bound: 0.5286946276803572\n",
      "Upper bound: 0.7913053723196428\n"
     ]
    }
   ],
   "source": [
    "# Define the dataset\n",
    "dataset = {\n",
    "    'Yes': 33,\n",
    "    'No': 17\n",
    "}\n",
    "\n",
    "# Calculate the total number of observations\n",
    "total_observations = sum(dataset.values())\n",
    "\n",
    "# Calculate the proportion (p hat)\n",
    "p_hat = dataset['Yes'] / total_observations\n",
    "\n",
    "# Calculate the standard error\n",
    "standard_error = math.sqrt(p_hat * (1 - p_hat) / total_observations)\n",
    "\n",
    "# Calculate the margin of error (z-value for 95% confidence interval is 1.96)\n",
    "margin_of_error = 1.96 * standard_error\n",
    "\n",
    "# Calculate the lower and upper bounds of the confidence interval\n",
    "lower_bound = p_hat - margin_of_error\n",
    "upper_bound = p_hat + margin_of_error\n",
    "\n",
    "# Print the results\n",
    "print(f\"Proportion (p hat): {p_hat}\")\n",
    "print(f\"95% Confidence Interval: {margin_of_error}\")\n",
    "print(f\"Lower bound: {lower_bound}\")\n",
    "print(f\"Upper bound: {upper_bound}\")\n",
    "\n",
    "\n",
    "# Print the results\n",
    "print(f\"Proportion (p hat): {p_hat}\")\n",
    "print(\"95% Confidence Interval:\")\n",
    "print(f\"Lower bound: {lower_bound}\")\n",
    "print(f\"Upper bound: {upper_bound}\")"
   ]
  },
  {
   "cell_type": "code",
   "execution_count": 7,
   "metadata": {},
   "outputs": [
    {
     "name": "stdout",
     "output_type": "stream",
     "text": [
      "Chi-square statistic: 3.2162104833801743\n",
      "P-value: 0.07291224306960992\n",
      "Degrees of freedom: 1\n",
      "Expected frequencies:\n",
      " [[111.88546256  54.11453744]\n",
      " [ 41.11453744  19.88546256]]\n"
     ]
    }
   ],
   "source": [
    "import numpy as np\n",
    "from scipy.stats import chi2_contingency\n",
    "import pandas as pd\n",
    "# Create the contingency table\n",
    "#observed = np.array([[118, 48], [35, 26]])\n",
    "\n",
    "observed = pd.DataFrame(\n",
    "    [\n",
    "        [350,48],\n",
    "        [35,26]\n",
    "    ],\n",
    "    index=[\"Male\",\"Female\"],\n",
    "    columns=[\"Yes\",\"No\"])\n",
    "observed\n",
    "\n",
    "# Perform the chi-square test\n",
    "chi2, p_value, dof, expected = chi2_contingency(observed)\n",
    "\n",
    "# Print the test results\n",
    "print(\"Chi-square statistic:\", chi2)\n",
    "print(\"P-value:\", p_value)\n",
    "print(\"Degrees of freedom:\", dof)\n",
    "print(\"Expected frequencies:\\n\", expected)"
   ]
  }
 ],
 "metadata": {
  "kernelspec": {
   "display_name": "Python 3",
   "language": "python",
   "name": "python3"
  },
  "language_info": {
   "codemirror_mode": {
    "name": "ipython",
    "version": 3
   },
   "file_extension": ".py",
   "mimetype": "text/x-python",
   "name": "python",
   "nbconvert_exporter": "python",
   "pygments_lexer": "ipython3",
   "version": "3.8.10"
  },
  "orig_nbformat": 4
 },
 "nbformat": 4,
 "nbformat_minor": 2
}
